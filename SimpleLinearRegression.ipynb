{
 "cells": [
  {
   "cell_type": "markdown",
   "metadata": {},
   "source": [
    "# Prof. Michael Madden\n",
    "### Machine Learning & Data Mining Research Group\n",
    "### National University of Ireland Galway\n",
    "\n",
    "### Simple Linear Regression Example\n",
    "\n",
    "This is a very simple but correct implementation of the Gradient Descent algorithm for\n",
    "Linear Regression with 1 input variable.\n",
    "Note that theta0 and theta1 are updated simultaneously, as required for correctness of the algorithm:\n",
    "this means that we compute new values for them using their old values before changing either value.\n",
    "\n",
    "By Michael Madden, 2016-2018, based on earlier Java code I wrote.\n",
    "\n",
    "<i>This code is may be used freely without restriction, though attribution of my authorship would be appreciated.</i>"
   ]
  },
  {
   "cell_type": "code",
   "execution_count": 1,
   "metadata": {},
   "outputs": [],
   "source": [
    "import pandas as pd\n",
    "import numpy as np\n",
    "import matplotlib.pyplot as plt\n",
    "import time\n",
    "from IPython.display import display, clear_output\n",
    "\n",
    "# Display plots inline in notebook\n",
    "%matplotlib notebook\n",
    "plt.rcParams['figure.figsize'] = [8, 6]\n",
    "\n",
    "# Use ggplot style to create plots that are styled to look like R's\n",
    "plt.style.use('ggplot')"
   ]
  },
  {
   "cell_type": "code",
   "execution_count": 2,
   "metadata": {},
   "outputs": [],
   "source": [
    "# Computes h(x) = theta0 + theta1 . x \n",
    "def h(x): \n",
    "   return theta0 + theta1*x\n",
    "\n",
    "# Computes partial derivative of J wrt theta0 \n",
    "def dJ_dtheta0(x, y):\n",
    "   sum = 0\n",
    "   for i in range (0, len(x)): \n",
    "      sum += h(x[i]) - y[i]\n",
    "   return sum / len(x)\n",
    "\n",
    "# Computes partial derivative of J wrt theta1 \n",
    "def dJ_dtheta1(x, y):\n",
    "   sum = 0\n",
    "   for i in range (0, len(x)):\n",
    "      sum += (h(x[i]) - y[i]) * x[i]\n",
    "   return sum / len(x)\n",
    "\n"
   ]
  },
  {
   "cell_type": "code",
   "execution_count": 3,
   "metadata": {},
   "outputs": [],
   "source": [
    "def batch_gradient_descent(x, y, alpha=0.01, tol=1e-8, maxiter=15000):\n",
    "    \"\"\"\n",
    "    Perform batch gradient descent.\n",
    "    Algorithm settings:\n",
    "        alpha = learning rate \n",
    "        tol = tolerance to determine convergence\n",
    "        maxiter = maximum number of iterations (in case convergence is not reached).\n",
    "    \"\"\"\n",
    "    \n",
    "    # other variables needed\n",
    "    itr = 0\n",
    "    delta0 = 99.0\n",
    "    delta1 = 99.0\n",
    "    global theta0\n",
    "    global theta1\n",
    "    \n",
    "    while (abs(delta1) > tol) or (abs(delta0) > tol):\n",
    "      # Simultaneous updates of thetas: compute all changes first, then update all thetas with them\n",
    "      delta0 = alpha * dJ_dtheta0(x,y)\n",
    "      delta1 = alpha * dJ_dtheta1(x,y)\n",
    "    \n",
    "      itr=itr+1\n",
    "      theta0 -= delta0\n",
    "      theta1 -= delta1\n",
    "\n",
    "      if (itr %20 == 0):\n",
    "         updatePlot(plotfig, plotax);\n",
    "\n",
    "      if (itr > maxiter): \n",
    "         break\n",
    "\n",
    "    print (\"\\nFinished after \", itr, \" iterations: theta_0=\", theta0, \", theta_1=\", theta1)"
   ]
  },
  {
   "cell_type": "code",
   "execution_count": 4,
   "metadata": {},
   "outputs": [],
   "source": [
    "def initPlot():\n",
    "    fig = plt.figure()\n",
    "    ax = fig.add_subplot(111)\n",
    "    plt.ion()\n",
    "\n",
    "    ax.plot(x, y, 'ro')\n",
    "    ax.plot([x[0], x[-1]], [h(x[0]), h(x[-1])], color='b', linestyle='-', linewidth=2)\n",
    "\n",
    "    display(fig)\n",
    "    return fig, ax"
   ]
  },
  {
   "cell_type": "code",
   "execution_count": 5,
   "metadata": {},
   "outputs": [],
   "source": [
    "def updatePlot(fig, ax):\n",
    "    ax.cla()\n",
    "    ax.plot(x, y, 'ro')\n",
    "    ax.plot([x[0], x[-1]], [h(x[0]), h(x[-1])], color='b', linestyle='-', linewidth=2)\n",
    "    \n",
    "    plt.xlim(xmin,xmax)\n",
    "    plt.ylim(ymin,ymax)\n",
    "    \n",
    "    display(fig)\n",
    "    clear_output(wait=True)    "
   ]
  },
  {
   "cell_type": "code",
   "execution_count": 13,
   "metadata": {},
   "outputs": [
    {
     "name": "stdout",
     "output_type": "stream",
     "text": [
      "\n",
      "Finished after  963  iterations: theta_0= nan , theta_1= nan\n"
     ]
    },
    {
     "data": {
      "image/png": "[encoded data removed]",
      "text/plain": [
       "<Figure size 432x288 with 1 Axes>"
      ]
     },
     "metadata": {
      "needs_background": "light"
     },
     "output_type": "display_data"
    }
   ],
   "source": [
    "## Very simple dataset\n",
    "# Note: for this data, correct answers are theta0=0.5, theta1=1.0.\n",
    "x = [2, 4, 6, 8]\n",
    "y = [3, 4, 6, 9]\n",
    "\n",
    "# Slightly less simple dataset\n",
    "#x = [2, 3, 4, 5, 6, 8, 9, 10, 11, 12, 13, 14, 14, 15, 17, 18, 19, 20]\n",
    "#y = [-2, -4, -5, -8, -5, -7, -8, -10, -12, -12, -14, -14, -15, -16, -16, -19, -18, -19]\n",
    "\n",
    "# axis ranges\n",
    "xmin=min(x)-1\n",
    "xmax=max(x)+1\n",
    "ymin=min(y)-1\n",
    "ymax=max(y)+1\n",
    "\n",
    "# Defining theta0 and theta1 at module level for convenience, since they are used in multiple functions.\n",
    "# initial guesses set here. 0,0 are typical. Going to start with bad guesses so we can see iterations clearly.\n",
    "theta0 = 20.0\n",
    "theta1 = -1.0\n",
    "\n",
    "(plotfig, plotax) = initPlot()\n",
    "\n",
    "# Perform the gradient descent\n",
    "batch_gradient_descent(x, y, 0.1, 1e-6, 12000)"
   ]
  },
  {
   "cell_type": "code",
   "execution_count": null,
   "metadata": {},
   "outputs": [],
   "source": []
  },
  {
   "cell_type": "code",
   "execution_count": null,
   "metadata": {},
   "outputs": [],
   "source": []
  }
 ],
 "metadata": {
  "kernelspec": {
   "display_name": "Python 3",
   "language": "python",
   "name": "python3"
  },
  "language_info": {
   "codemirror_mode": {
    "name": "ipython",
    "version": 3
   },
   "file_extension": ".py",
   "mimetype": "text/x-python",
   "name": "python",
   "nbconvert_exporter": "python",
   "pygments_lexer": "ipython3",
   "version": "3.7.1"
  }
 },
 "nbformat": 4,
 "nbformat_minor": 1
}
